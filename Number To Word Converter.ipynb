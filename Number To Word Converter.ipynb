{
 "cells": [
  {
   "cell_type": "markdown",
   "id": "1d163311",
   "metadata": {},
   "source": [
    "# Number To Word Converter\n",
    "(Indian format)"
   ]
  },
  {
   "cell_type": "code",
   "execution_count": 1,
   "id": "15a8bb60",
   "metadata": {},
   "outputs": [
    {
     "name": "stdout",
     "output_type": "stream",
     "text": [
      "Enter a number up to 1 crore: 10\n",
      "Ten Rupees Only\n"
     ]
    }
   ],
   "source": [
    "def convert_number_to_words(number):\n",
    "    ones = [\"\", \"One\", \"Two\", \"Three\", \"Four\", \"Five\", \"Six\", \"Seven\", \"Eight\", \"Nine\", \"Ten\",\n",
    "            \"Eleven\", \"Twelve\", \"Thirteen\", \"Fourteen\", \"Fifteen\", \"Sixteen\", \"Seventeen\", \"Eighteen\", \"Nineteen\"]\n",
    "    tens = [\"\", \"\", \"Twenty\", \"Thirty\", \"Forty\", \"Fifty\", \"Sixty\", \"Seventy\", \"Eighty\", \"Ninety\"]\n",
    "\n",
    "    def convert_below_thousand(n):\n",
    "        if n < 20:\n",
    "            return ones[n]\n",
    "        elif n < 100:\n",
    "            return tens[n // 10] + (\" \" + ones[n % 10] if n % 10 != 0 else \"\")\n",
    "        else:\n",
    "            return ones[n // 100] + \" Hundred\" + (\" And \" + convert_below_thousand(n % 100) if n % 100 != 0 else \"\")\n",
    "\n",
    "    if number == 0:\n",
    "        return \"Zero\"\n",
    "\n",
    "    words = \"\"\n",
    "    crore = number // 10000000\n",
    "    lakh = (number // 100000) % 100\n",
    "    thousand = (number // 1000) % 100\n",
    "    remaining = number % 1000\n",
    "\n",
    "    if crore > 0:\n",
    "        words += convert_below_thousand(crore) + \" Crore\"\n",
    "        if lakh > 0 or thousand > 0 or remaining > 0:\n",
    "            words += \" \"\n",
    "    if lakh > 0:\n",
    "        words += convert_below_thousand(lakh) + \" Lakh\"\n",
    "        if thousand > 0 or remaining > 0:\n",
    "            words += \" \"\n",
    "    if thousand > 0:\n",
    "        words += convert_below_thousand(thousand) + \" Thousand\"\n",
    "        if remaining > 0:\n",
    "            words += \" \"\n",
    "    if remaining > 0:\n",
    "        words += convert_below_thousand(remaining)\n",
    "\n",
    "    return words\n",
    "\n",
    "\n",
    "if __name__ == \"__main__\":\n",
    "    number = int(input(\"Enter a number up to 1 crore: \"))\n",
    "    if number > 10000000:\n",
    "        print(\"Number out of range.\")\n",
    "    else:\n",
    "        words = convert_number_to_words(number)\n",
    "        print(words + \" Rupees Only\")\n"
   ]
  },
  {
   "cell_type": "code",
   "execution_count": 4,
   "id": "aade7a31",
   "metadata": {},
   "outputs": [
    {
     "data": {
      "text/plain": [
       "'One Hundred And Fifty Five'"
      ]
     },
     "execution_count": 4,
     "metadata": {},
     "output_type": "execute_result"
    }
   ],
   "source": [
    "convert_number_to_words(155)"
   ]
  },
  {
   "cell_type": "code",
   "execution_count": 5,
   "id": "5f33a4ff",
   "metadata": {},
   "outputs": [
    {
     "data": {
      "text/plain": [
       "'One Thousand Two Hundred And Thirty Four'"
      ]
     },
     "execution_count": 5,
     "metadata": {},
     "output_type": "execute_result"
    }
   ],
   "source": [
    "convert_number_to_words(1234)"
   ]
  },
  {
   "cell_type": "code",
   "execution_count": 6,
   "id": "8db3ae31",
   "metadata": {},
   "outputs": [
    {
     "data": {
      "text/plain": [
       "'Two Lakh Forty Five Thousand Nine Hundred And Sixty Eight'"
      ]
     },
     "execution_count": 6,
     "metadata": {},
     "output_type": "execute_result"
    }
   ],
   "source": [
    "convert_number_to_words(245968)"
   ]
  },
  {
   "cell_type": "code",
   "execution_count": 9,
   "id": "6e3b8fbf",
   "metadata": {},
   "outputs": [
    {
     "data": {
      "text/plain": [
       "'Four Crore'"
      ]
     },
     "execution_count": 9,
     "metadata": {},
     "output_type": "execute_result"
    }
   ],
   "source": [
    "convert_number_to_words(40000000)"
   ]
  },
  {
   "cell_type": "code",
   "execution_count": 10,
   "id": "b8e0bdbf",
   "metadata": {},
   "outputs": [
    {
     "data": {
      "text/plain": [
       "'Four Crore Thirty Two Lakh Fifty Two Thousand Three Hundred And Twelve'"
      ]
     },
     "execution_count": 10,
     "metadata": {},
     "output_type": "execute_result"
    }
   ],
   "source": [
    "convert_number_to_words(43252312)"
   ]
  },
  {
   "cell_type": "code",
   "execution_count": null,
   "id": "4df2b215",
   "metadata": {},
   "outputs": [],
   "source": []
  }
 ],
 "metadata": {
  "kernelspec": {
   "display_name": "Python 3 (ipykernel)",
   "language": "python",
   "name": "python3"
  },
  "language_info": {
   "codemirror_mode": {
    "name": "ipython",
    "version": 3
   },
   "file_extension": ".py",
   "mimetype": "text/x-python",
   "name": "python",
   "nbconvert_exporter": "python",
   "pygments_lexer": "ipython3",
   "version": "3.9.12"
  }
 },
 "nbformat": 4,
 "nbformat_minor": 5
}
